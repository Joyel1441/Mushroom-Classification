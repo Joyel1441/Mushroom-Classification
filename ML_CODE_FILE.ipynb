{
  "nbformat": 4,
  "nbformat_minor": 0,
  "metadata": {
    "colab": {
      "name": "mushrooms.ipynb",
      "provenance": [],
      "collapsed_sections": []
    },
    "kernelspec": {
      "name": "python3",
      "display_name": "Python 3"
    },
    "language_info": {
      "name": "python"
    }
  },
  "cells": [
    {
      "cell_type": "code",
      "metadata": {
        "id": "oxZ2dzsgndv2"
      },
      "source": [
        "#import all the necessary libraries\n",
        "import pandas as pd\n",
        "import numpy as np\n",
        "from numpy import vstack\n",
        "from sklearn.preprocessing import OrdinalEncoder, LabelEncoder\n",
        "from sklearn.metrics import accuracy_score\n",
        "from pickle import dump, load\n",
        "import torch\n",
        "from torch import nn\n",
        "from torch.utils.data import Dataset, random_split, DataLoader"
      ],
      "execution_count": null,
      "outputs": []
    },
    {
      "cell_type": "code",
      "metadata": {
        "id": "ivM_rorzoynL"
      },
      "source": [
        "class MushroomsData(Dataset):\n",
        "  def __init__(self, path):\n",
        "    data = pd.read_csv(path)\n",
        "    data = data.drop(str(data.columns[11]),axis=1) #remove stalk-root feature\n",
        "    data = data.drop(str(data.columns[15]),axis=1) #remove veil-type feature\n",
        "    encoder = OrdinalEncoder()\n",
        "    label_encoder = LabelEncoder()\n",
        "    self.X = encoder.fit_transform(data.values[:,1:])\n",
        "    self.y = label_encoder.fit_transform(data.values[:,0])\n",
        "    self.X = self.X.astype(\"float32\")\n",
        "    self.y = self.y.astype(\"float32\")\n",
        "    self.y = self.y.reshape(len(self.y), 1)\n",
        "    dump(encoder, open(\"/content/drive/MyDrive/dataset/encoder.pkl\", 'wb')) #save the encoder\n",
        " \n",
        "  def __len__(self):\n",
        "    return len(self.y)\n",
        " \n",
        "  def __getitem__(self, idx):\n",
        "    return [self.X[idx], self.y[idx]]\n",
        " \n",
        "  def split_data(self):\n",
        "    test_size = round(0.2 * len(self.X))\n",
        "    train_size = len(self.X) - test_size\n",
        "    return random_split(self, [train_size, test_size])"
      ],
      "execution_count": null,
      "outputs": []
    },
    {
      "cell_type": "code",
      "metadata": {
        "id": "kA-LrEb61yhN"
      },
      "source": [
        "#pre-process the data\n",
        "def prepare_data(path):\n",
        "  dataset = MushroomsData(path)\n",
        "  train_data, test_data = dataset.split_data()\n",
        "  train_dl = DataLoader(train_data, batch_size=32, shuffle=True)\n",
        "  test_dl = DataLoader(test_data, batch_size=32)\n",
        "  return train_dl, test_dl\n",
        " \n",
        "#train the model on training data\n",
        "def train_model(train_dl, model):\n",
        "  criterion = nn.BCELoss()\n",
        "  optimizer = torch.optim.SGD(model.parameters(), lr=0.001)\n",
        "  for epoch in range(300):\n",
        "    for i, (inputs, targets) in enumerate(train_dl):\n",
        "      optimizer.zero_grad()\n",
        "      yhat = model(inputs)\n",
        "      loss = criterion(yhat, targets)\n",
        "      loss.backward()\n",
        "      optimizer.step()\n",
        "    if epoch % 20 == 0:\n",
        "      print(\"epoch: \", epoch)\n",
        " \n",
        "#test the model on test data\n",
        "def evaluate_model(test_dl, model):\n",
        "  predictions, actuals = list(), list()\n",
        "  for i, (inputs, targets) in enumerate(test_dl):\n",
        "    yhat = model(inputs)\n",
        "    yhat = yhat.detach().numpy()\n",
        "    actual = targets.numpy()\n",
        "    actual = actual.reshape(len(actual), 1)\n",
        "    yhat = yhat.round()\n",
        "    predictions.append(yhat)\n",
        "    actuals.append(actual)   \n",
        "  predictions, actuals = vstack(predictions), vstack(actuals)\n",
        "  acc = accuracy_score(actuals, predictions)\n",
        "  return acc"
      ],
      "execution_count": null,
      "outputs": []
    },
    {
      "cell_type": "code",
      "metadata": {
        "id": "jWW_s2l96zOw"
      },
      "source": [
        "#define a model\n",
        "model = nn.Sequential(nn.Linear(20,30),\n",
        "                      nn.ReLU(),\n",
        "                      nn.Linear(30, 20),\n",
        "                      nn.ReLU(),\n",
        "                      nn.Linear(20, 10),\n",
        "                      nn.ReLU(),\n",
        "                      nn.Linear(10, 1),\n",
        "                      nn.Sigmoid())"
      ],
      "execution_count": null,
      "outputs": []
    },
    {
      "cell_type": "code",
      "metadata": {
        "id": "SAN7kFbQ8Dvf",
        "colab": {
          "base_uri": "https://localhost:8080/"
        },
        "outputId": "e8e27649-97b4-4af3-98b1-282765ebd6ca"
      },
      "source": [
        "path = \"/content/drive/MyDrive/dataset/mushrooms.csv\" #path for the dataset\n",
        "train_dl, test_dl = prepare_data(path) #pre-process and split the data to train and test set\n",
        "train_model(train_dl, model) #train the model\n",
        "accuracy = evaluate_model(test_dl, model) #test the model\n",
        "print(accuracy)"
      ],
      "execution_count": null,
      "outputs": [
        {
          "output_type": "stream",
          "name": "stdout",
          "text": [
            "epoch:  0\n",
            "epoch:  20\n",
            "epoch:  40\n",
            "epoch:  60\n",
            "epoch:  80\n",
            "epoch:  100\n",
            "epoch:  120\n",
            "epoch:  140\n",
            "epoch:  160\n",
            "epoch:  180\n",
            "epoch:  200\n",
            "epoch:  220\n",
            "epoch:  240\n",
            "epoch:  260\n",
            "epoch:  280\n",
            "0.9963076923076923\n"
          ]
        }
      ]
    },
    {
      "cell_type": "code",
      "metadata": {
        "id": "C-mroHVGAvBd"
      },
      "source": [
        "torch.save(model.state_dict(), \"/content/drive/MyDrive/dataset/model.pth\") #save the model"
      ],
      "execution_count": null,
      "outputs": []
    }
  ]
}